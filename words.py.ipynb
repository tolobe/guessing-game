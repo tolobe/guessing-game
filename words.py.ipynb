{
 "cells": [
  {
   "cell_type": "code",
   "execution_count": 1,
   "metadata": {},
   "outputs": [
    {
     "ename": "SyntaxError",
     "evalue": "EOL while scanning string literal (<ipython-input-1-cf6b261bab6d>, line 9)",
     "output_type": "error",
     "traceback": [
      "\u001b[1;36m  File \u001b[1;32m\"<ipython-input-1-cf6b261bab6d>\"\u001b[1;36m, line \u001b[1;32m9\u001b[0m\n\u001b[1;33m    '\u001b[0m\n\u001b[1;37m     ^\u001b[0m\n\u001b[1;31mSyntaxError\u001b[0m\u001b[1;31m:\u001b[0m EOL while scanning string literal\n"
     ]
    }
   ],
   "source": [
    "word_list = [\n",
    "    'sparrow', \n",
    "    'robin', \n",
    "    'duck',\n",
    "    'cardinal',\n",
    "    'pigeon',\n",
    "    'puffin',\n",
    "    'goose',\n",
    "    'raven',\n",
    "    'flamingo',\n",
    "    'woodpecker',\n",
    "    'eagle',\n",
    "    'hawk',\n",
    "    'egret',\n",
    "    'falcon',\n",
    "    'finch',\n",
    "    'dove',\n",
    "    'goldfinch',\n",
    "    'bluejay',\n",
    "    'starling',\n",
    "    'crow',\n",
    "    'grackle',\n",
    "    'chickadee',\n",
    "    'mockingbird',\n",
    "    'heron',\n",
    "    'owl',\n",
    "    'hummingbird',\n",
    "    'seagull',\n",
    "    'oriole',\n",
    "    'vulture',\n",
    "    'parrot',\n",
    "\n",
    "]"
   ]
  },
  {
   "cell_type": "code",
   "execution_count": null,
   "metadata": {},
   "outputs": [],
   "source": []
  }
 ],
 "metadata": {
  "kernelspec": {
   "display_name": "Python 3",
   "language": "python",
   "name": "python3"
  },
  "language_info": {
   "codemirror_mode": {
    "name": "ipython",
    "version": 3
   },
   "file_extension": ".py",
   "mimetype": "text/x-python",
   "name": "python",
   "nbconvert_exporter": "python",
   "pygments_lexer": "ipython3",
   "version": "3.8.5"
  }
 },
 "nbformat": 4,
 "nbformat_minor": 4
}
